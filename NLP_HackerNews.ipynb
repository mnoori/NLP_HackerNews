{
 "cells": [
  {
   "cell_type": "code",
   "execution_count": 3,
   "metadata": {
    "scrolled": false
   },
   "outputs": [
    {
     "data": {
      "text/html": [
       "<div>\n",
       "<style>\n",
       "    .dataframe thead tr:only-child th {\n",
       "        text-align: right;\n",
       "    }\n",
       "\n",
       "    .dataframe thead th {\n",
       "        text-align: left;\n",
       "    }\n",
       "\n",
       "    .dataframe tbody tr th {\n",
       "        vertical-align: top;\n",
       "    }\n",
       "</style>\n",
       "<table border=\"1\" class=\"dataframe\">\n",
       "  <thead>\n",
       "    <tr style=\"text-align: right;\">\n",
       "      <th></th>\n",
       "      <th>submission_time</th>\n",
       "      <th>upvotes</th>\n",
       "      <th>url</th>\n",
       "      <th>headline</th>\n",
       "    </tr>\n",
       "  </thead>\n",
       "  <tbody>\n",
       "    <tr>\n",
       "      <th>0</th>\n",
       "      <td>2014-06-24T05:50:40.000Z</td>\n",
       "      <td>1</td>\n",
       "      <td>flux7.com</td>\n",
       "      <td>8 Ways to Use Docker in the Real World</td>\n",
       "    </tr>\n",
       "    <tr>\n",
       "      <th>1</th>\n",
       "      <td>2010-02-17T16:57:59Z</td>\n",
       "      <td>1</td>\n",
       "      <td>blog.jonasbandi.net</td>\n",
       "      <td>Software: Sadly we did adopt from the construc...</td>\n",
       "    </tr>\n",
       "    <tr>\n",
       "      <th>2</th>\n",
       "      <td>2014-02-04T02:36:30Z</td>\n",
       "      <td>1</td>\n",
       "      <td>blogs.wsj.com</td>\n",
       "      <td>Google’s Stock Split Means More Control for L...</td>\n",
       "    </tr>\n",
       "    <tr>\n",
       "      <th>3</th>\n",
       "      <td>2011-10-26T07:11:29Z</td>\n",
       "      <td>1</td>\n",
       "      <td>threatpost.com</td>\n",
       "      <td>SSL DOS attack tool released exploiting negoti...</td>\n",
       "    </tr>\n",
       "    <tr>\n",
       "      <th>4</th>\n",
       "      <td>2011-04-03T15:43:44Z</td>\n",
       "      <td>67</td>\n",
       "      <td>algorithm.com.au</td>\n",
       "      <td>Immutability and Blocks Lambdas and Closures</td>\n",
       "    </tr>\n",
       "  </tbody>\n",
       "</table>\n",
       "</div>"
      ],
      "text/plain": [
       "            submission_time  upvotes                  url  \\\n",
       "0  2014-06-24T05:50:40.000Z        1            flux7.com   \n",
       "1      2010-02-17T16:57:59Z        1  blog.jonasbandi.net   \n",
       "2      2014-02-04T02:36:30Z        1        blogs.wsj.com   \n",
       "3      2011-10-26T07:11:29Z        1       threatpost.com   \n",
       "4      2011-04-03T15:43:44Z       67     algorithm.com.au   \n",
       "\n",
       "                                            headline  \n",
       "0             8 Ways to Use Docker in the Real World  \n",
       "1  Software: Sadly we did adopt from the construc...  \n",
       "2   Google’s Stock Split Means More Control for L...  \n",
       "3  SSL DOS attack tool released exploiting negoti...  \n",
       "4       Immutability and Blocks Lambdas and Closures  "
      ]
     },
     "execution_count": 3,
     "metadata": {},
     "output_type": "execute_result"
    }
   ],
   "source": [
    "import pandas as pd\n",
    "import os\n",
    "os.chdir(address)\n",
    "\n",
    "columns=[\"submission_time\", \"upvotes\", \"url\", \"headline\"]\n",
    "\n",
    "submissions = pd.read_csv(\"sel_hn_stories.csv\",header=None,names=columns)\n",
    "\n",
    "submissions.head()"
   ]
  },
  {
   "cell_type": "code",
   "execution_count": 4,
   "metadata": {},
   "outputs": [
    {
     "data": {
      "text/html": [
       "<div>\n",
       "<style>\n",
       "    .dataframe thead tr:only-child th {\n",
       "        text-align: right;\n",
       "    }\n",
       "\n",
       "    .dataframe thead th {\n",
       "        text-align: left;\n",
       "    }\n",
       "\n",
       "    .dataframe tbody tr th {\n",
       "        vertical-align: top;\n",
       "    }\n",
       "</style>\n",
       "<table border=\"1\" class=\"dataframe\">\n",
       "  <thead>\n",
       "    <tr style=\"text-align: right;\">\n",
       "      <th></th>\n",
       "      <th>% Missing Values</th>\n",
       "    </tr>\n",
       "  </thead>\n",
       "  <tbody>\n",
       "    <tr>\n",
       "      <th>submission_time</th>\n",
       "      <td>0.00</td>\n",
       "    </tr>\n",
       "    <tr>\n",
       "      <th>upvotes</th>\n",
       "      <td>0.00</td>\n",
       "    </tr>\n",
       "    <tr>\n",
       "      <th>url</th>\n",
       "      <td>6.30</td>\n",
       "    </tr>\n",
       "    <tr>\n",
       "      <th>headline</th>\n",
       "      <td>0.33</td>\n",
       "    </tr>\n",
       "  </tbody>\n",
       "</table>\n",
       "</div>"
      ],
      "text/plain": [
       "                 % Missing Values\n",
       "submission_time              0.00\n",
       "upvotes                      0.00\n",
       "url                          6.30\n",
       "headline                     0.33"
      ]
     },
     "execution_count": 4,
     "metadata": {},
     "output_type": "execute_result"
    }
   ],
   "source": [
    "#percent of missing values for each column\n",
    "pd.DataFrame(submissions.isnull().sum()/submissions.shape[0]*100,columns=['% Missing Values']).round(2)"
   ]
  },
  {
   "cell_type": "code",
   "execution_count": 3,
   "metadata": {},
   "outputs": [
    {
     "name": "stdout",
     "output_type": "stream",
     "text": [
      "Highest number of posts is 6311 made by shawndumas\n"
     ]
    }
   ],
   "source": [
    "#who has posted the most? and how many?\n",
    "print('Highest number of posts is {1} made by {0}'.format(submissions['author'].value_counts().index.tolist()[0],submissions['author'].value_counts().tolist()[0]))"
   ]
  },
  {
   "cell_type": "markdown",
   "metadata": {},
   "source": [
    "Oh wow! such an active user! let's see how much points he has recieved?"
   ]
  },
  {
   "cell_type": "code",
   "execution_count": 4,
   "metadata": {},
   "outputs": [
    {
     "name": "stdout",
     "output_type": "stream",
     "text": [
      "shawn recieved 9.27 average points, while average points for all posts is 10.24\n"
     ]
    }
   ],
   "source": [
    "shawn=submissions[submissions['author']=='shawndumas']\n",
    "print('shawn recieved {0:.2f} average points, while average points for all posts is {1:.2f}'.format(shawn['points'].mean(),submissions['points'].mean()))"
   ]
  },
  {
   "cell_type": "markdown",
   "metadata": {
    "collapsed": true
   },
   "source": [
    "Okay, this doesn't suggest a relationship between the user and the upvotes.  \n",
    "\n",
    "I dont plan to utilize url_hostname for now. The only columns I will be using for regression analysis are headlines and points. Let's drop url column and then drop na title rows."
   ]
  },
  {
   "cell_type": "code",
   "execution_count": 5,
   "metadata": {},
   "outputs": [
    {
     "data": {
      "text/plain": [
       "(2801, 4)"
      ]
     },
     "execution_count": 5,
     "metadata": {},
     "output_type": "execute_result"
    }
   ],
   "source": [
    "#submissions=submissions.loc[:,['title','points']]\n",
    "submissions=submissions.dropna()\n",
    "submissions.shape"
   ]
  },
  {
   "cell_type": "markdown",
   "metadata": {},
   "source": [
    "This is fairly large, I will only use 5% of the data for now."
   ]
  },
  {
   "cell_type": "code",
   "execution_count": 6,
   "metadata": {},
   "outputs": [
    {
     "data": {
      "text/html": [
       "<div>\n",
       "<style>\n",
       "    .dataframe thead tr:only-child th {\n",
       "        text-align: right;\n",
       "    }\n",
       "\n",
       "    .dataframe thead th {\n",
       "        text-align: left;\n",
       "    }\n",
       "\n",
       "    .dataframe tbody tr th {\n",
       "        vertical-align: top;\n",
       "    }\n",
       "</style>\n",
       "<table border=\"1\" class=\"dataframe\">\n",
       "  <thead>\n",
       "    <tr style=\"text-align: right;\">\n",
       "      <th></th>\n",
       "      <th>index</th>\n",
       "      <th>title</th>\n",
       "      <th>points</th>\n",
       "    </tr>\n",
       "  </thead>\n",
       "  <tbody>\n",
       "    <tr>\n",
       "      <th>0</th>\n",
       "      <td>1293117</td>\n",
       "      <td>Electric Cigarette - TOP Rated Electric Cigare...</td>\n",
       "      <td>1</td>\n",
       "    </tr>\n",
       "    <tr>\n",
       "      <th>1</th>\n",
       "      <td>846234</td>\n",
       "      <td>Import contacts from Google by entering your e...</td>\n",
       "      <td>2</td>\n",
       "    </tr>\n",
       "    <tr>\n",
       "      <th>2</th>\n",
       "      <td>546115</td>\n",
       "      <td>The Dot Com Boom Is Giving Way To The Dot Chin...</td>\n",
       "      <td>1</td>\n",
       "    </tr>\n",
       "    <tr>\n",
       "      <th>3</th>\n",
       "      <td>1403870</td>\n",
       "      <td>Some practical questions to ask oneself to get...</td>\n",
       "      <td>12</td>\n",
       "    </tr>\n",
       "    <tr>\n",
       "      <th>4</th>\n",
       "      <td>22551</td>\n",
       "      <td>Configuration Management as a Service</td>\n",
       "      <td>1</td>\n",
       "    </tr>\n",
       "  </tbody>\n",
       "</table>\n",
       "</div>"
      ],
      "text/plain": [
       "     index                                              title  points\n",
       "0  1293117  Electric Cigarette - TOP Rated Electric Cigare...       1\n",
       "1   846234  Import contacts from Google by entering your e...       2\n",
       "2   546115  The Dot Com Boom Is Giving Way To The Dot Chin...       1\n",
       "3  1403870  Some practical questions to ask oneself to get...      12\n",
       "4    22551              Configuration Management as a Service       1"
      ]
     },
     "execution_count": 6,
     "metadata": {},
     "output_type": "execute_result"
    }
   ],
   "source": [
    "submissions=submissions.sample(frac=0.05,axis=0).reset_index()\n",
    "submissions.head()"
   ]
  },
  {
   "cell_type": "markdown",
   "metadata": {},
   "source": [
    "There are four ways to remove punctuations:\n",
    "* **sets**\n",
    "    - exclude = set(string.punctuation) \\n s = ''.join(ch for ch in s if ch not in exclude)\n",
    "* **regex**\n",
    "    - s = re.sub(r'[^\\w\\s]','',s) OR re.compile('[%s]' % re.escape(string.punctuation)).sub('',s)\n",
    "* **translate**\n",
    "    - s = s.translate(str.maketrans('','',string.punctuation))\n",
    "* **replace**\n",
    "    - for c in string.punctuation: \\n s=s.replace(c,\"\")\n",
    "\n",
    "Among all these approaches, `translate()` method beats the others in terms of speed. please refer to **[this post](https://stackoverflow.com/questions/265960/best-way-to-strip-punctuation-from-a-string-in-python)** on StackOverflow. But please note that the syntax mentioned for `translate()` in that post is applicable in Python 2. For Python 3, please refer to **[this post](https://stackoverflow.com/questions/23175809/str-translate-gives-typeerror-translate-takes-one-argument-2-given-worked-i)**."
   ]
  },
  {
   "cell_type": "code",
   "execution_count": 7,
   "metadata": {
    "collapsed": true
   },
   "outputs": [],
   "source": [
    "#removing the punctuations.\n",
    "import string\n",
    "submissions['title_nopuncs']=submissions['headline'].apply(lambda x: x.translate(str.maketrans('','',string.punctuation)))"
   ]
  },
  {
   "cell_type": "markdown",
   "metadata": {},
   "source": [
    "Also, we should lower case the titles. Apple, apple, and APPLE are all the same!"
   ]
  },
  {
   "cell_type": "code",
   "execution_count": 8,
   "metadata": {
    "collapsed": true
   },
   "outputs": [],
   "source": [
    "#lower casing titles\n",
    "submissions['title_nopuncs']=submissions['title_nopuncs'].apply(lambda x: x.lower())"
   ]
  },
  {
   "cell_type": "markdown",
   "metadata": {},
   "source": [
    "Now, we'd like to to tokenize the titles. I use `split()` function. One could use `nltk.tokenize` as well. Based on **[this post](https://stackoverflow.com/questions/9602856/most-efficient-way-to-split-strings-in-python)**, `split()` works fairly good on not too long strings."
   ]
  },
  {
   "cell_type": "code",
   "execution_count": 9,
   "metadata": {},
   "outputs": [
    {
     "data": {
      "text/plain": [
       "0     [8, ways, to, use, docker, in, the, real, world]\n",
       "1    [software, sadly, we, did, adopt, from, the, c...\n",
       "2    [google’s, stock, split, means, more, control,...\n",
       "3    [ssl, dos, attack, tool, released, exploiting,...\n",
       "4    [immutability, and, blocks, lambdas, and, clos...\n",
       "Name: tokenz, dtype: object"
      ]
     },
     "execution_count": 9,
     "metadata": {},
     "output_type": "execute_result"
    }
   ],
   "source": [
    "# tokenizing the headlines\n",
    "submissions['tokenz'] = submissions['title_nopuncs'].apply(lambda x: x.split())\n",
    "submissions['tokenz'].head()"
   ]
  },
  {
   "cell_type": "markdown",
   "metadata": {},
   "source": [
    "Now, we should use find unique tokens. I can think of two approaches:\n",
    "* creates a master list of all the tokenz, and call unique() function on it.\n",
    "* create an emppty list, and append the unique tokenz to it. **Don't do this! It takes forever! Obviously.**\n",
    "\n",
    "\n",
    "**OR** use **[this](https://stackoverflow.com/questions/1720421/how-to-concatenate-two-lists-in-python)** awesome post on StackOverflow and find the following approach!"
   ]
  },
  {
   "cell_type": "code",
   "execution_count": 10,
   "metadata": {},
   "outputs": [
    {
     "name": "stdout",
     "output_type": "stream",
     "text": [
      "Number of unique words: 6864\n"
     ]
    }
   ],
   "source": [
    "import itertools\n",
    "\n",
    "#this will create a list of all words\n",
    "words=list(itertools.chain.from_iterable(submissions['tokenz']))\n",
    "\n",
    "#this will create a list of unique words\n",
    "unique_words=list(set(words))\n",
    "\n",
    "print('Number of unique words:',len(set(unique_words)))"
   ]
  },
  {
   "cell_type": "code",
   "execution_count": 11,
   "metadata": {},
   "outputs": [
    {
     "data": {
      "text/plain": [
       "0     [8, ways, to, use, docker, in, the, real, world]\n",
       "1    [software, sadly, we, did, adopt, from, the, c...\n",
       "2    [google’s, stock, split, means, more, control,...\n",
       "3    [ssl, dos, attack, tool, released, exploiting,...\n",
       "4    [immutability, and, blocks, lambdas, and, clos...\n",
       "Name: tokenz, dtype: object"
      ]
     },
     "execution_count": 11,
     "metadata": {},
     "output_type": "execute_result"
    }
   ],
   "source": [
    "submissions['tokenz'].head()"
   ]
  },
  {
   "cell_type": "code",
   "execution_count": 12,
   "metadata": {
    "collapsed": true
   },
   "outputs": [],
   "source": [
    "import numpy as np\n",
    "import pandas as pd\n",
    "counts = pd.DataFrame(0,index=np.arange(submissions['tokenz'].shape[0]), columns=unique_words)"
   ]
  },
  {
   "cell_type": "code",
   "execution_count": null,
   "metadata": {
    "collapsed": true
   },
   "outputs": [],
   "source": [
    "#now counting the number of words in each headline and adding it to our dataframe\n",
    "for index, row in submissions.iterrows():\n",
    "    #print(row['tokenz'])\n",
    "    for token in row['tokenz']:\n",
    "        #print (token)\n",
    "        counts.iloc[index][token]+=1"
   ]
  },
  {
   "cell_type": "markdown",
   "metadata": {},
   "source": [
    "Interestingly, we could use the `sklearn.feature_extraction` that does all the steps that we have just implemented!"
   ]
  },
  {
   "cell_type": "code",
   "execution_count": 30,
   "metadata": {
    "collapsed": true
   },
   "outputs": [],
   "source": [
    "from sklearn.feature_extraction.text import CountVectorizer\n",
    "vectorizer = CountVectorizer()\n",
    "X=vectorizer.fit_transform(list(submissions['headline']))\n",
    "counts=pd.DataFrame(X.toarray(),columns=vectorizer.get_feature_names())\n",
    "#print( vectorizer.vocabulary_)"
   ]
  },
  {
   "cell_type": "markdown",
   "metadata": {},
   "source": [
    "Too many columns. There are two types of features that will reduce regression accuracy:\n",
    "* The ones that occur only a few times. These will cause over fitting.\n",
    "* The ones that occur too many times, such as `a` and `and`. These are often called `stopwords`, and do not indicate any relationship with the upvotes.  \n",
    "Let's remove any word that occur fewer than 5 and more than 100 times."
   ]
  },
  {
   "cell_type": "code",
   "execution_count": 31,
   "metadata": {
    "collapsed": true
   },
   "outputs": [],
   "source": [
    "count_sum=counts.sum()\n",
    "counts=counts.drop(count_sum[(count_sum>100) | (count_sum<5)].index,axis=1)"
   ]
  },
  {
   "cell_type": "code",
   "execution_count": 32,
   "metadata": {},
   "outputs": [
    {
     "data": {
      "text/plain": [
       "(2801, 680)"
      ]
     },
     "execution_count": 32,
     "metadata": {},
     "output_type": "execute_result"
    }
   ],
   "source": [
    "counts.shape"
   ]
  },
  {
   "cell_type": "code",
   "execution_count": 33,
   "metadata": {
    "collapsed": true
   },
   "outputs": [],
   "source": [
    "# spliting data into train and validation sets\n",
    "from sklearn.cross_validation import train_test_split\n",
    "\n",
    "X_train,X_test,y_train,y_test=train_test_split(counts,submissions['upvotes'],train_size=0.8,random_state=1)"
   ]
  },
  {
   "cell_type": "code",
   "execution_count": 34,
   "metadata": {},
   "outputs": [
    {
     "data": {
      "text/plain": [
       "47.540588945715584"
      ]
     },
     "execution_count": 34,
     "metadata": {},
     "output_type": "execute_result"
    }
   ],
   "source": [
    "from sklearn.linear_model import LinearRegression\n",
    "from sklearn.metrics import mean_squared_error\n",
    "\n",
    "lr = LinearRegression()\n",
    "lr.fit(X_train,y_train)\n",
    "pred=lr.predict(X_test)\n",
    "rmse=(mean_squared_error(pred,y_test))**0.5\n",
    "rmse"
   ]
  }
 ],
 "metadata": {
  "kernelspec": {
   "display_name": "Python 3",
   "language": "python",
   "name": "python3"
  },
  "language_info": {
   "codemirror_mode": {
    "name": "ipython",
    "version": 3
   },
   "file_extension": ".py",
   "mimetype": "text/x-python",
   "name": "python",
   "nbconvert_exporter": "python",
   "pygments_lexer": "ipython3",
   "version": "3.6.3"
  }
 },
 "nbformat": 4,
 "nbformat_minor": 2
}
